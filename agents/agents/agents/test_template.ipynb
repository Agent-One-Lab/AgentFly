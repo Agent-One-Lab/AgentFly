{
 "cells": [
  {
   "cell_type": "code",
   "execution_count": 1,
   "id": "ee9debcd-b0bb-4a80-9f3c-fa2a8c969e3c",
   "metadata": {},
   "outputs": [],
   "source": [
    "from templates.templates import Template, get_template\n",
    "from transformers import AutoTokenizer"
   ]
  },
  {
   "cell_type": "code",
   "execution_count": 2,
   "id": "3c7a2d7f-35c5-4dec-bf6d-d542c07f78a3",
   "metadata": {},
   "outputs": [],
   "source": [
    "template = Template(\n",
    "    name=\"qwen\",\n",
    "    system_template=\"<|im_start|>system\\n{system_message}<|im_end|>\\n\",\n",
    "    system_message=\"You are a helpful assistant.\",\n",
    "    user_template=\"<|im_start|>user\\n{content}<|im_end|>\\n\",\n",
    "    assistant_template=\"<|im_start|>assistant\\n{content}<|im_end|>\",\n",
    "    tool_template=\"<|im_start|>user\\n<tool_response>\\n{observation}\\n</tool_response>\"\n",
    ")"
   ]
  },
  {
   "cell_type": "code",
   "execution_count": 2,
   "id": "3954137b-12aa-4bb1-a777-a1347a7365e8",
   "metadata": {},
   "outputs": [],
   "source": [
    "template = get_template(\"qwen2.5\")"
   ]
  },
  {
   "cell_type": "code",
   "execution_count": 3,
   "id": "b986ac78-4c84-45ec-a4d4-02a3a9250589",
   "metadata": {},
   "outputs": [],
   "source": [
    "messages = [\n",
    "    {\n",
    "        \"role\": \"user\",\n",
    "        \"content\": [\n",
    "            {\n",
    "                \"type\": \"text\",\n",
    "                \"text\": \"Hello, how are you today?\",\n",
    "            }\n",
    "        ]\n",
    "    },\n",
    "    {\n",
    "        \"role\": \"assistant\",\n",
    "        \"content\": [\n",
    "            {\n",
    "                \"type\": \"text\",\n",
    "                \"text\": \"Hi, I am good.\"\n",
    "            }\n",
    "        ]\n",
    "    }\n",
    "]"
   ]
  },
  {
   "cell_type": "code",
   "execution_count": 4,
   "id": "40a22719-21e7-4d74-8738-d348b06fe99c",
   "metadata": {},
   "outputs": [],
   "source": [
    "prompt, _, _ = template.render(messages, add_generation_prompt=True)"
   ]
  },
  {
   "cell_type": "code",
   "execution_count": 5,
   "id": "c080af43-7c9f-484c-b768-a8ab8f44c041",
   "metadata": {},
   "outputs": [
    {
     "name": "stdout",
     "output_type": "stream",
     "text": [
      "<|im_start|>system\n",
      "You are Qwen, created by Alibaba Cloud. You are a helpful assistant.<|im_end|>\n",
      "<|im_start|>user\n",
      "Hello, how are you today?<|im_end|>\n",
      "<|im_start|>assistant\n",
      "Hi, I am good.<|im_end|>\n",
      "<|im_start|>assistant\n",
      "\n"
     ]
    }
   ],
   "source": [
    "print(prompt)"
   ]
  },
  {
   "cell_type": "code",
   "execution_count": 6,
   "id": "8ac4df8a-27d5-4c1e-8ded-f3660261b2ed",
   "metadata": {},
   "outputs": [],
   "source": [
    "tokenizer = AutoTokenizer.from_pretrained(\"Qwen/Qwen2.5-VL-3B-Instruct\")"
   ]
  },
  {
   "cell_type": "code",
   "execution_count": 7,
   "id": "c62d90d9-98d5-4d9a-b9a4-69fa700db9c8",
   "metadata": {},
   "outputs": [
    {
     "name": "stdout",
     "output_type": "stream",
     "text": [
      "{% set _u_pref  = '<|im_start|>user\\n' %}{% set _u_suff  = '<|im_end|>\\n' %}{% set _a_pref  = '<|im_start|>assistant\\n' %}{% set _a_suff  = '<|im_end|>\\n' %}{% set _t_pref  = '<|im_start|>tool\\n' %}{% set _t_suff  = '<|im_end|>\\n' %}{% set _img_tok = '<|vision_start|><|image_pad|><|vision_end|>' %}{% set _vid_tok = '<|vision_start|><|video_pad|><|vision_end|>' %}{% if messages and messages[0]['role'] == 'system' %}{{ messages[0]['content'] }}{% else %}<|im_start|>system\n",
      "You are Qwen, created by Alibaba Cloud. You are a helpful assistant.<|im_end|>\n",
      "{% endif %}{% for m in messages %}{% if m['role'] == 'user' %}{% set ns = namespace(txt='') %}{% for item in m['content'] %}{% if item['type'] == 'text'  %}{% set ns.txt = ns.txt + item['text'] %}{% elif item['type'] == 'image' %}{% set ns.txt = ns.txt + _img_tok %}{% elif item['type'] == 'video' %}{% set ns.txt = ns.txt + _vid_tok %}{% endif %}{% endfor %}{{ _u_pref }}{{ ns.txt }}{{ _u_suff }}{% elif m['role'] == 'assistant' %}{{ _a_pref }}{{ m['content'][0]['text'] }}{{ _a_suff }}{% elif m['role'] == 'tool' %}{{ _t_pref }}{{ m['content'][0]['text'] }}{{ _t_suff }}{% endif %}{% endfor %}{% if add_generation_prompt %}{{ _a_pref }}{% endif %}\n"
     ]
    }
   ],
   "source": [
    "tokenizer.chat_template = template.jinja_template()\n",
    "print(tokenizer.chat_template)"
   ]
  },
  {
   "cell_type": "code",
   "execution_count": 10,
   "id": "4d9c7c77-7b03-471d-bc98-d6fdc9e60e0d",
   "metadata": {},
   "outputs": [
    {
     "name": "stdout",
     "output_type": "stream",
     "text": [
      "<|im_start|>system\n",
      "You are Qwen, created by Alibaba Cloud. You are a helpful assistant.<|im_end|>\n",
      "<|im_start|>user\n",
      "Hello, how are you today?<|im_end|>\n",
      "<|im_start|>assistant\n",
      "Hi, I am good.<|im_end|>\n",
      "<|im_start|>assistant\n",
      "\n"
     ]
    }
   ],
   "source": [
    "prompt = tokenizer.apply_chat_template(messages, tokenize=False, add_generation_prompt=True)\n",
    "print(prompt)"
   ]
  },
  {
   "cell_type": "code",
   "execution_count": 5,
   "id": "f3d64d7c-c9a7-4c68-a94e-8114244ea64b",
   "metadata": {},
   "outputs": [
    {
     "ename": "NameError",
     "evalue": "name 'tokenizer' is not defined",
     "output_type": "error",
     "traceback": [
      "\u001b[0;31m---------------------------------------------------------------------------\u001b[0m",
      "\u001b[0;31mNameError\u001b[0m                                 Traceback (most recent call last)",
      "Cell \u001b[0;32mIn[5], line 1\u001b[0m\n\u001b[0;32m----> 1\u001b[0m inputs \u001b[38;5;241m=\u001b[39m template\u001b[38;5;241m.\u001b[39mencode(messages, \u001b[43mtokenizer\u001b[49m, return_tensors\u001b[38;5;241m=\u001b[39m\u001b[38;5;124m\"\u001b[39m\u001b[38;5;124mpt\u001b[39m\u001b[38;5;124m\"\u001b[39m)\n",
      "\u001b[0;31mNameError\u001b[0m: name 'tokenizer' is not defined"
     ]
    }
   ],
   "source": [
    "inputs = template.encode(messages, tokenizer, return_tensors=\"pt\")"
   ]
  },
  {
   "cell_type": "code",
   "execution_count": 14,
   "id": "fc9ef1c2-e415-427c-8be8-251bc4e8dde3",
   "metadata": {},
   "outputs": [
    {
     "name": "stdout",
     "output_type": "stream",
     "text": [
      "{'input_ids': tensor([[151644,   8948,    198,   2610,    525,   1207,  16948,     11,   3465,\n",
      "            553,  54364,  14817,     13,   1446,    525,    264,  10950,  17847,\n",
      "             13, 151645,    198, 151644,  77091,    198,  13048,     11,    358,\n",
      "           1079,   1661,     13, 151645,    198]]), 'attention_mask': tensor([[1, 1, 1, 1, 1, 1, 1, 1, 1, 1, 1, 1, 1, 1, 1, 1, 1, 1, 1, 1, 1, 1, 1, 1,\n",
      "         1, 1, 1, 1, 1, 1, 1, 1]]), 'labels': tensor([[  -100,   -100,   -100,   -100,   -100,   -100,   -100,   -100,   -100,\n",
      "           -100,   -100,   -100,   -100,   -100,   -100,   -100,   -100,   -100,\n",
      "           -100,   -100,   -100,   -100,   -100,   -100,  13048,     11,    358,\n",
      "           1079,   1661,     13, 151645,   -100]]), 'action_mask': tensor([[0, 0, 0, 0, 0, 0, 0, 0, 0, 0, 0, 0, 0, 0, 0, 0, 0, 0, 0, 0, 0, 0, 0, 0,\n",
      "         1, 1, 1, 1, 1, 1, 1, 0]])}\n"
     ]
    }
   ],
   "source": [
    "print(inputs)"
   ]
  },
  {
   "cell_type": "code",
   "execution_count": 15,
   "id": "ba3c0c00-7840-4c0f-b5ce-32048623e3d5",
   "metadata": {},
   "outputs": [
    {
     "data": {
      "text/plain": [
       "'<|im_start|>system\\nYou are Qwen, created by Alibaba Cloud. You are a helpful assistant.<|im_end|>\\n<|im_start|>assistant\\nHi, I am good.<|im_end|>\\n'"
      ]
     },
     "execution_count": 15,
     "metadata": {},
     "output_type": "execute_result"
    }
   ],
   "source": [
    "tokenizer.decode([151644, 8948, 198, 2610, 525, 1207, 16948, 11, 3465, 553, 54364, 14817, 13, 1446, 525, 264, 10950, 17847, 13, 151645, 198, 151644, 77091, 198, 13048, 11, 358, 1079, 1661, 13, 151645, 198])"
   ]
  },
  {
   "cell_type": "code",
   "execution_count": 16,
   "id": "72fe745f-bf71-4e41-8ce7-2e291a1171b7",
   "metadata": {},
   "outputs": [
    {
     "data": {
      "text/plain": [
       "'\\n'"
      ]
     },
     "execution_count": 16,
     "metadata": {},
     "output_type": "execute_result"
    }
   ],
   "source": [
    "tokenizer.decode([198])"
   ]
  },
  {
   "cell_type": "code",
   "execution_count": 3,
   "id": "a1d40ab8-5a8b-4c9b-9e1f-c88ef3ab5ee7",
   "metadata": {},
   "outputs": [],
   "source": [
    "messages = [\n",
    "    {\"role\": \"system\", \"content\": [{\"type\": \"text\", \"text\": \"You are a helpful assistant.\"}]},\n",
    "    {\"role\": \"user\", \"content\": [{\"type\": \"text\", \"text\": \"Hello, how are you?\"}]},\n",
    "    {\"role\": \"assistant\", \"content\": [{\"type\": \"text\", \"text\": \"I am fine, thank you.\"}]},\n",
    "    {\"role\": \"user\", \"content\": [{\"type\": \"text\", \"text\": \"What is 3 times 5?\"}]},\n",
    "]"
   ]
  },
  {
   "cell_type": "code",
   "execution_count": 4,
   "id": "af62af07-93d2-4262-af58-498ad63fc5d3",
   "metadata": {},
   "outputs": [],
   "source": [
    "prompt, elements, roles = template.render(messages)\n",
    "elements, mask_flags = template._postprocess_elements(elements, roles)"
   ]
  },
  {
   "cell_type": "code",
   "execution_count": 5,
   "id": "3f494dcc-f97c-4912-bd34-a4b732279f99",
   "metadata": {},
   "outputs": [
    {
     "name": "stdout",
     "output_type": "stream",
     "text": [
      "['<|im_start|>system\\nYou are a helpful assistant.<|im_end|>\\n<|im_start|>user\\nHello, how are you?<|im_end|>\\n<|im_start|>assistant\\n', 'I am fine, thank you.<|im_end|>', '\\n<|im_start|>user\\nWhat is 3 times 5?<|im_end|>\\n']\n",
      "[True, False, True]\n"
     ]
    }
   ],
   "source": [
    "print(elements)\n",
    "print(mask_flags)"
   ]
  },
  {
   "cell_type": "code",
   "execution_count": null,
   "id": "5b13bf8d-52bb-4f89-b4c2-f308f4eb67df",
   "metadata": {},
   "outputs": [],
   "source": []
  }
 ],
 "metadata": {
  "kernelspec": {
   "display_name": "python310",
   "language": "python",
   "name": "python310"
  },
  "language_info": {
   "codemirror_mode": {
    "name": "ipython",
    "version": 3
   },
   "file_extension": ".py",
   "mimetype": "text/x-python",
   "name": "python",
   "nbconvert_exporter": "python",
   "pygments_lexer": "ipython3",
   "version": "3.10.16"
  }
 },
 "nbformat": 4,
 "nbformat_minor": 5
}
